{
 "cells": [
  {
   "cell_type": "markdown",
   "id": "904ee4e9",
   "metadata": {},
   "source": [
    "# Reading the files"
   ]
  },
  {
   "cell_type": "code",
   "execution_count": 5,
   "id": "f85e21a3",
   "metadata": {},
   "outputs": [],
   "source": [
    "import unicodecsv\n",
    "import csv\n"
   ]
  },
  {
   "cell_type": "code",
   "execution_count": 6,
   "id": "604f597f",
   "metadata": {},
   "outputs": [
    {
     "name": "stdout",
     "output_type": "stream",
     "text": [
      "{'account_key': '448', 'status': 'canceled', 'join_date': '2014-11-10', 'cancel_date': '2015-01-14', 'days_to_cancel': '65', 'is_udacity': 'True', 'is_canceled': 'True'}\n"
     ]
    }
   ],
   "source": [
    "enrollments_filename = 'enrollments.csv'\n",
    "\n",
    "with open(enrollments_filename, 'rb') as en:\n",
    "    reader = unicodecsv.DictReader(en)\n",
    "    enrolls = list(reader)\n",
    "    print(enrolls[0])"
   ]
  },
  {
   "cell_type": "code",
   "execution_count": 7,
   "id": "e43ebaff",
   "metadata": {},
   "outputs": [
    {
     "name": "stdout",
     "output_type": "stream",
     "text": [
      "{'acct': '0', 'utc_date': '2015-01-09', 'num_courses_visited': '1.0', 'total_minutes_visited': '11.6793745', 'lessons_completed': '0.0', 'projects_completed': '0.0'}\n"
     ]
    }
   ],
   "source": [
    "daily_engagement_filename = 'daily_engagement.csv'\n",
    "\n",
    "with open(daily_engagement_filename, 'rb') as d:\n",
    "    reader = unicodecsv.DictReader(d)\n",
    "    dailies = list(reader)\n",
    "    print(next(iter(dailies)))"
   ]
  },
  {
   "cell_type": "code",
   "execution_count": 8,
   "id": "5434bd77",
   "metadata": {},
   "outputs": [
    {
     "name": "stdout",
     "output_type": "stream",
     "text": [
      "{'creation_date': '2015-01-14', 'completion_date': '2015-01-16', 'assigned_rating': 'UNGRADED', 'account_key': '256', 'lesson_key': '3176718735', 'processing_state': 'EVALUATED'}\n"
     ]
    }
   ],
   "source": [
    "project_submissions_filename = 'project_submissions.csv'\n",
    "\n",
    "with open(project_submissions_filename, 'rb') as p:\n",
    "    reader = unicodecsv.DictReader(p)\n",
    "    subs=list(reader)\n",
    "    print(subs[0])"
   ]
  },
  {
   "cell_type": "markdown",
   "id": "5bfc5f80",
   "metadata": {},
   "source": [
    "# Fixing the datatypes of the files"
   ]
  },
  {
   "cell_type": "code",
   "execution_count": 9,
   "id": "ba563b80",
   "metadata": {},
   "outputs": [],
   "source": [
    "from datetime import datetime as dt\n",
    "def to_int(i):\n",
    "    if (i==''):\n",
    "        return None\n",
    "    else:\n",
    "        return int(i)\n",
    "        \n",
    "def to_float(i):\n",
    "    if(i==''):\n",
    "        return None\n",
    "    else:\n",
    "        return float(i)\n",
    "    \n",
    "def to_date(i):\n",
    "    if(i==''):\n",
    "        return None\n",
    "    else:\n",
    "        return dt.strptime(i, '%Y-%m-%d')"
   ]
  },
  {
   "cell_type": "code",
   "execution_count": 10,
   "id": "e5f5a1ae",
   "metadata": {},
   "outputs": [],
   "source": [
    "for enrollment in enrolls:\n",
    "    enrollment['days_to_cancel'] = to_int(enrollment['days_to_cancel'])\n",
    "    enrollment['is_udacity'] = enrollment['is_udacity']=='True'\n",
    "    enrollment['is_canceled'] = enrollment['is_canceled']=='True'\n",
    "    \n",
    "    "
   ]
  },
  {
   "cell_type": "code",
   "execution_count": 11,
   "id": "5fdac5f8",
   "metadata": {},
   "outputs": [
    {
     "data": {
      "text/plain": [
       "str"
      ]
     },
     "execution_count": 11,
     "metadata": {},
     "output_type": "execute_result"
    }
   ],
   "source": [
    "type(enrolls[0]['cancel_date'])"
   ]
  },
  {
   "cell_type": "code",
   "execution_count": 12,
   "id": "2459272d",
   "metadata": {},
   "outputs": [
    {
     "data": {
      "text/plain": [
       "{'acct': '0',\n",
       " 'utc_date': '2015-01-09',\n",
       " 'num_courses_visited': 1,\n",
       " 'total_minutes_visited': 11.6793745,\n",
       " 'lessons_completed': 0,\n",
       " 'projects_completed': 0}"
      ]
     },
     "execution_count": 12,
     "metadata": {},
     "output_type": "execute_result"
    }
   ],
   "source": [
    "for engagement_record in dailies:\n",
    "    engagement_record['lessons_completed'] = to_int(to_float(engagement_record['lessons_completed']))\n",
    "    engagement_record['num_courses_visited'] = to_int(to_float(engagement_record['num_courses_visited']))\n",
    "    engagement_record['projects_completed'] = to_int(to_float(engagement_record['projects_completed']))\n",
    "    engagement_record['total_minutes_visited'] = to_float(engagement_record['total_minutes_visited'])\n",
    "    \n",
    "    \n",
    "dailies[0]"
   ]
  },
  {
   "cell_type": "code",
   "execution_count": 13,
   "id": "343ee0fe",
   "metadata": {},
   "outputs": [
    {
     "data": {
      "text/plain": [
       "{'creation_date': datetime.datetime(2015, 1, 14, 0, 0),\n",
       " 'completion_date': datetime.datetime(2015, 1, 16, 0, 0),\n",
       " 'assigned_rating': 'UNGRADED',\n",
       " 'account_key': '256',\n",
       " 'lesson_key': '3176718735',\n",
       " 'processing_state': 'EVALUATED'}"
      ]
     },
     "execution_count": 13,
     "metadata": {},
     "output_type": "execute_result"
    }
   ],
   "source": [
    "for submission in subs:\n",
    "    submission['completion_date'] = to_date(submission['completion_date'])\n",
    "    submission['creation_date'] = to_date(submission['creation_date'])\n",
    "\n",
    "subs[0]"
   ]
  },
  {
   "cell_type": "markdown",
   "id": "dcb5a76d",
   "metadata": {},
   "source": [
    "# Some queries"
   ]
  },
  {
   "cell_type": "code",
   "execution_count": 14,
   "id": "b84ad2a5",
   "metadata": {},
   "outputs": [
    {
     "data": {
      "text/plain": [
       "{'account_key': '448',\n",
       " 'status': 'canceled',\n",
       " 'join_date': '2014-11-10',\n",
       " 'cancel_date': '2015-01-14',\n",
       " 'days_to_cancel': 65,\n",
       " 'is_udacity': True,\n",
       " 'is_canceled': True}"
      ]
     },
     "execution_count": 14,
     "metadata": {},
     "output_type": "execute_result"
    }
   ],
   "source": [
    "def read_csv(filename):\n",
    "    with open(filename, 'rb') as f:\n",
    "        reader = unicodecsv.DictReader(f)\n",
    "        file = list(reader)\n",
    "        return file\n",
    "    \n",
    "enrolls[0]"
   ]
  },
  {
   "cell_type": "code",
   "execution_count": 15,
   "id": "ab3b9082",
   "metadata": {},
   "outputs": [
    {
     "name": "stdout",
     "output_type": "stream",
     "text": [
      "1302\n",
      "1640\n"
     ]
    }
   ],
   "source": [
    "count = 0\n",
    "enrolls_set = set()\n",
    "for i in enrolls:\n",
    "    enrolls_set.add(i['account_key'])\n",
    "    count+=1\n",
    "    \n",
    "print(len(enrolls_set))\n",
    "print(count)"
   ]
  },
  {
   "cell_type": "markdown",
   "id": "77f04508",
   "metadata": {},
   "source": [
    "# Fixing some problems in the data"
   ]
  },
  {
   "cell_type": "code",
   "execution_count": 16,
   "id": "5f80f78d",
   "metadata": {},
   "outputs": [
    {
     "name": "stdout",
     "output_type": "stream",
     "text": [
      "{'acct': '0', 'utc_date': '2015-01-09', 'num_courses_visited': 1, 'total_minutes_visited': 11.6793745, 'lessons_completed': 0, 'projects_completed': 0}\n"
     ]
    }
   ],
   "source": [
    "print(dailies[0])\n",
    "#here the account_key name is different from the other tables (\"acct\")"
   ]
  },
  {
   "cell_type": "code",
   "execution_count": 17,
   "id": "174bf51f",
   "metadata": {},
   "outputs": [
    {
     "data": {
      "text/plain": [
       "'0'"
      ]
     },
     "execution_count": 17,
     "metadata": {},
     "output_type": "execute_result"
    }
   ],
   "source": [
    "#fixing this problem\n",
    "\n",
    "for i in dailies:\n",
    "    i['account_key'] = i['acct']\n",
    "    del i['acct']\n",
    "\n",
    "dailies[0]['account_key']"
   ]
  },
  {
   "cell_type": "code",
   "execution_count": 18,
   "id": "5a93c722",
   "metadata": {},
   "outputs": [
    {
     "data": {
      "text/plain": [
       "{'utc_date': '2015-01-09',\n",
       " 'num_courses_visited': 1,\n",
       " 'total_minutes_visited': 11.6793745,\n",
       " 'lessons_completed': 0,\n",
       " 'projects_completed': 0,\n",
       " 'account_key': '0'}"
      ]
     },
     "execution_count": 18,
     "metadata": {},
     "output_type": "execute_result"
    }
   ],
   "source": [
    "dailies[0]"
   ]
  },
  {
   "cell_type": "markdown",
   "id": "81efb9f0",
   "metadata": {},
   "source": [
    "# Getting the students who enrolled but did not engaged"
   ]
  },
  {
   "cell_type": "code",
   "execution_count": 19,
   "id": "30903e00",
   "metadata": {},
   "outputs": [
    {
     "name": "stdout",
     "output_type": "stream",
     "text": [
      "1302\n",
      "1640\n"
     ]
    }
   ],
   "source": [
    "count = 0\n",
    "enrolls_set = set()\n",
    "for i in enrolls:\n",
    "    enrolls_set.add(i['account_key'])\n",
    "    count+=1\n",
    "    \n",
    "print(len(enrolls_set))\n",
    "print(count)"
   ]
  },
  {
   "cell_type": "code",
   "execution_count": 20,
   "id": "46f1f731",
   "metadata": {},
   "outputs": [
    {
     "name": "stdout",
     "output_type": "stream",
     "text": [
      "1237\n",
      "136240\n"
     ]
    }
   ],
   "source": [
    "count = 0\n",
    "engagements_set = set()\n",
    "for i in dailies:\n",
    "    engagements_set.add(i['account_key'])\n",
    "    count+=1\n",
    "    \n",
    "print(len(engagements_set))\n",
    "print(count)"
   ]
  },
  {
   "cell_type": "code",
   "execution_count": 22,
   "id": "b59f0e71",
   "metadata": {},
   "outputs": [
    {
     "name": "stdout",
     "output_type": "stream",
     "text": [
      "{'1086', '799', '1218', '1191', '728', '968', '1237', '725', '1213', '1063', '664', '902', '717', '1284', '1171', '1155', '1222', '914', '733', '889', '1148', '803', '1238', '711', '1079', '802', '1044', '1304', '737', '1010', '819', '1291', '749', '1190', '871', '1129', '1120', '817', '926', '1241', '870', '878', '996', '1145', '997', '1025', '1186', '1125', '1069', '750', '1273', '654', '766', '981', '841', '727', '739', '964', '1101', '707', '789', '1270', '1219', '884', '875'}\n"
     ]
    }
   ],
   "source": [
    "difference = (enrolls_set.difference(engagements_set))\n",
    "print (difference)"
   ]
  },
  {
   "cell_type": "code",
   "execution_count": 23,
   "id": "4bb8b2ec",
   "metadata": {},
   "outputs": [
    {
     "name": "stdout",
     "output_type": "stream",
     "text": [
      "False\n",
      "False\n",
      "False\n",
      "False\n",
      "False\n",
      "False\n",
      "False\n",
      "False\n",
      "False\n",
      "False\n",
      "False\n",
      "False\n",
      "False\n",
      "False\n",
      "False\n",
      "False\n",
      "False\n",
      "False\n",
      "False\n",
      "False\n",
      "False\n",
      "False\n",
      "False\n",
      "False\n",
      "False\n",
      "False\n",
      "False\n",
      "False\n",
      "True\n",
      "True\n",
      "False\n",
      "False\n",
      "False\n",
      "False\n",
      "False\n",
      "False\n",
      "False\n",
      "False\n",
      "False\n",
      "False\n",
      "False\n",
      "False\n",
      "False\n",
      "False\n",
      "False\n",
      "False\n",
      "False\n",
      "False\n",
      "False\n",
      "False\n",
      "False\n",
      "False\n",
      "True\n",
      "False\n",
      "False\n",
      "False\n",
      "False\n",
      "False\n",
      "False\n",
      "False\n",
      "False\n",
      "False\n",
      "False\n",
      "False\n",
      "True\n",
      "False\n",
      "False\n",
      "False\n",
      "False\n",
      "False\n",
      "False\n"
     ]
    }
   ],
   "source": [
    "for i in difference:\n",
    "    for j in enrolls:\n",
    "        if(type(j['join_date']) == str):\n",
    "            j['join_date'] = to_date(j['join_date'])\n",
    "        if(i == j['account_key']) and (j['join_date']!=j['cancel_date']):\n",
    "            print(j['is_udacity'])\n",
    "        else:\n",
    "            continue"
   ]
  },
  {
   "cell_type": "markdown",
   "id": "dc3cc703",
   "metadata": {},
   "source": [
    "# Removing the test accounts from the enrollment table"
   ]
  },
  {
   "cell_type": "code",
   "execution_count": 24,
   "id": "f01bbfde",
   "metadata": {},
   "outputs": [
    {
     "data": {
      "text/plain": [
       "6"
      ]
     },
     "execution_count": 24,
     "metadata": {},
     "output_type": "execute_result"
    }
   ],
   "source": [
    "test_accounts = set()\n",
    "\n",
    "for i in enrolls:\n",
    "    if i['is_udacity']:\n",
    "        test_accounts.add(i['account_key'])\n",
    "        \n",
    "len(test_accounts)\n",
    "            "
   ]
  },
  {
   "cell_type": "code",
   "execution_count": 25,
   "id": "88dfac6b",
   "metadata": {},
   "outputs": [],
   "source": [
    "def remove_test_accounts(data):\n",
    "    non_test_accounts = []\n",
    "    for i in data:\n",
    "        if i['account_key'] not in test_accounts:\n",
    "            non_test_accounts.append(i)\n",
    "    return non_test_accounts"
   ]
  },
  {
   "cell_type": "code",
   "execution_count": 26,
   "id": "e89113fb",
   "metadata": {},
   "outputs": [
    {
     "name": "stdout",
     "output_type": "stream",
     "text": [
      "1622\n",
      "135656\n",
      "3634\n"
     ]
    }
   ],
   "source": [
    "non_test_enrolls = remove_test_accounts(enrolls)\n",
    "non_test_engagements = remove_test_accounts(dailies)\n",
    "non_test_submissions = remove_test_accounts(subs)\n",
    "\n",
    "print(len(non_test_enrolls))\n",
    "print(len(non_test_engagements))\n",
    "print(len(non_test_submissions))"
   ]
  },
  {
   "cell_type": "code",
   "execution_count": null,
   "id": "dd61a590",
   "metadata": {},
   "outputs": [],
   "source": [
    "daily_engagement_full[0]"
   ]
  },
  {
   "cell_type": "code",
   "execution_count": 28,
   "id": "21620d71",
   "metadata": {},
   "outputs": [],
   "source": [
    "paid_students = {}\n",
    "\n",
    "for i in non_test_enrolls:\n",
    "    if(i['days_to_cancel']==None or i['days_to_cancel']>7):\n",
    "        account_key = i['account_key']\n",
    "        \n",
    "        if(account_key not in paid_students or i['join_date'] > paid_students[account_key]):\n",
    "            paid_students[account_key] = i['join_date']"
   ]
  },
  {
   "cell_type": "code",
   "execution_count": 29,
   "id": "6eff881f",
   "metadata": {},
   "outputs": [
    {
     "name": "stdout",
     "output_type": "stream",
     "text": [
      "995\n"
     ]
    }
   ],
   "source": [
    "print(len(paid_students))"
   ]
  },
  {
   "cell_type": "markdown",
   "id": "14771393",
   "metadata": {},
   "source": [
    "## List from the engagement table including only rows where the students is one of the paid students, and the date is whithin one week of the student's join date"
   ]
  },
  {
   "cell_type": "code",
   "execution_count": 92,
   "id": "06f2ec71",
   "metadata": {},
   "outputs": [
    {
     "name": "stdout",
     "output_type": "stream",
     "text": [
      "1293\n",
      "134549\n",
      "3618\n"
     ]
    },
    {
     "data": {
      "text/plain": [
       "6919"
      ]
     },
     "execution_count": 92,
     "metadata": {},
     "output_type": "execute_result"
    }
   ],
   "source": [
    "def within_one_week(join_date, engagement_date):\n",
    "    time_delta = engagement_date - join_date\n",
    "    return time_delta.days < 7 and time_delta.days>=0\n",
    "    \n",
    "def remove_free_trial_cancels(data):\n",
    "    new_data = []\n",
    "    for data_point in data:\n",
    "        if data_point['account_key'] in paid_students:\n",
    "            new_data.append(data_point)\n",
    "    return new_data\n",
    "    \n",
    "paid_enrollments = remove_free_trial_cancels(non_test_enrolls)\n",
    "paid_engagement = remove_free_trial_cancels(non_test_engagements)\n",
    "paid_submissions = remove_free_trial_cancels(non_test_submissions)\n",
    "    \n",
    "print (len(paid_enrollments))\n",
    "print (len(paid_engagement))\n",
    "print (len(paid_submissions))\n",
    "\n",
    "paid_engagement_in_first_week = []\n",
    "\n",
    "for engagement_record in paid_engagement:\n",
    "    account_key = engagement_record['account_key']\n",
    "    join_date = paid_students[account_key]\n",
    "    engagement_record_date = engagement_record['utc_date']\n",
    "        \n",
    "    if within_one_week(join_date, engagement_record_date):\n",
    "        paid_engagement_in_first_week.append(engagement_record)\n",
    "    \n",
    "len(paid_engagement_in_first_week)"
   ]
  },
  {
   "cell_type": "code",
   "execution_count": 93,
   "id": "b1bbad5d",
   "metadata": {},
   "outputs": [
    {
     "name": "stdout",
     "output_type": "stream",
     "text": [
      "{'utc_date': datetime.datetime(2015, 1, 9, 0, 0), 'num_courses_visited': 1, 'total_minutes_visited': 11.6793745, 'lessons_completed': 0, 'projects_completed': 0, 'account_key': '0'}\n"
     ]
    }
   ],
   "source": [
    "print(paid_engagement_in_first_week[0])"
   ]
  },
  {
   "cell_type": "code",
   "execution_count": 94,
   "id": "ab856800",
   "metadata": {},
   "outputs": [],
   "source": [
    "from collections import defaultdict\n",
    "engagement_by_account = defaultdict(list)\n",
    "for i in paid_engagement_in_first_week:\n",
    "    account_key = i['account_key']\n",
    "    engagement_by_account[account_key].append(i)"
   ]
  },
  {
   "cell_type": "markdown",
   "id": "7fadb63b",
   "metadata": {},
   "source": [
    "## Getting the accounts with total minutes in the first week"
   ]
  },
  {
   "cell_type": "code",
   "execution_count": 95,
   "id": "35b358fb",
   "metadata": {},
   "outputs": [],
   "source": [
    "total_minutes_by_account={}\n",
    "\n",
    "for account_key, engagement_for_student in engagement_by_account.items():\n",
    "    total_minutes = 0\n",
    "    for engagement_record in engagement_for_student:\n",
    "        total_minutes += engagement_record['total_minutes_visited']\n",
    "    total_minutes_by_account[account_key] = total_minutes"
   ]
  },
  {
   "cell_type": "code",
   "execution_count": 96,
   "id": "583880bb",
   "metadata": {},
   "outputs": [
    {
     "name": "stdout",
     "output_type": "stream",
     "text": [
      "306.7083267534284\n"
     ]
    }
   ],
   "source": [
    "total_minutes = list(total_minutes_by_account.values())\n",
    "total = 0\n",
    "for i in total_minutes:\n",
    "    total+=i\n",
    "    \n",
    "mean = total/len(total_minutes)\n",
    "print(mean)"
   ]
  },
  {
   "cell_type": "code",
   "execution_count": 97,
   "id": "4e3a153b",
   "metadata": {},
   "outputs": [
    {
     "name": "stdout",
     "output_type": "stream",
     "text": [
      "0.0\n",
      "3564.7332644989997\n",
      "412.99693340852957\n"
     ]
    }
   ],
   "source": [
    "import numpy as np\n",
    "\n",
    "minimum = np.min(total_minutes)\n",
    "maximum = np.max(total_minutes)\n",
    "std = np.std(total_minutes)\n",
    "print(minimum)\n",
    "print(maximum)\n",
    "print(std)"
   ]
  },
  {
   "cell_type": "code",
   "execution_count": 99,
   "id": "0ae5547e",
   "metadata": {},
   "outputs": [
    {
     "name": "stdout",
     "output_type": "stream",
     "text": [
      "0\n",
      "<class 'str'>\n"
     ]
    }
   ],
   "source": [
    "counter = 0\n",
    "print(str(counter))\n",
    "print(type(str(counter)))"
   ]
  },
  {
   "cell_type": "code",
   "execution_count": 100,
   "id": "06432135",
   "metadata": {},
   "outputs": [],
   "source": [
    "total_minutes_by_account = {str(k): v for k,v in total_minutes_by_account.items()}"
   ]
  },
  {
   "cell_type": "code",
   "execution_count": 101,
   "id": "2934f2c3",
   "metadata": {},
   "outputs": [
    {
     "data": {
      "text/plain": [
       "3564.7332644989997"
      ]
     },
     "execution_count": 101,
     "metadata": {},
     "output_type": "execute_result"
    }
   ],
   "source": [
    "students_with_max_minutes = None\n",
    "max_minutes = 0\n",
    "\n",
    "for student, total_minutes in total_minutes_by_account.items():\n",
    "    if total_minutes>max_minutes:\n",
    "        max_minutes = total_minutes\n",
    "        student_with_max_minutes = student\n",
    "max_minutes"
   ]
  },
  {
   "cell_type": "code",
   "execution_count": 102,
   "id": "a1826b6c",
   "metadata": {},
   "outputs": [
    {
     "data": {
      "text/plain": [
       "'163'"
      ]
     },
     "execution_count": 102,
     "metadata": {},
     "output_type": "execute_result"
    }
   ],
   "source": [
    "student_with_max_minutes"
   ]
  },
  {
   "cell_type": "code",
   "execution_count": 103,
   "id": "9310a564",
   "metadata": {},
   "outputs": [
    {
     "name": "stdout",
     "output_type": "stream",
     "text": [
      "{'utc_date': datetime.datetime(2015, 7, 9, 0, 0), 'num_courses_visited': 4, 'total_minutes_visited': 850.519339666, 'lessons_completed': 4, 'projects_completed': 0, 'account_key': '163'}\n",
      "{'utc_date': datetime.datetime(2015, 7, 10, 0, 0), 'num_courses_visited': 6, 'total_minutes_visited': 872.633923334, 'lessons_completed': 6, 'projects_completed': 0, 'account_key': '163'}\n",
      "{'utc_date': datetime.datetime(2015, 7, 11, 0, 0), 'num_courses_visited': 2, 'total_minutes_visited': 777.018903666, 'lessons_completed': 6, 'projects_completed': 0, 'account_key': '163'}\n",
      "{'utc_date': datetime.datetime(2015, 7, 12, 0, 0), 'num_courses_visited': 1, 'total_minutes_visited': 294.568774, 'lessons_completed': 2, 'projects_completed': 0, 'account_key': '163'}\n",
      "{'utc_date': datetime.datetime(2015, 7, 13, 0, 0), 'num_courses_visited': 3, 'total_minutes_visited': 471.2139785, 'lessons_completed': 1, 'projects_completed': 0, 'account_key': '163'}\n",
      "{'utc_date': datetime.datetime(2015, 7, 14, 0, 0), 'num_courses_visited': 2, 'total_minutes_visited': 298.778345333, 'lessons_completed': 1, 'projects_completed': 0, 'account_key': '163'}\n",
      "{'utc_date': datetime.datetime(2015, 7, 15, 0, 0), 'num_courses_visited': 0, 'total_minutes_visited': 0.0, 'lessons_completed': 0, 'projects_completed': 0, 'account_key': '163'}\n"
     ]
    }
   ],
   "source": [
    "for engagement in c:\n",
    "    if engagement['account_key'] == student_with_max_minutes:\n",
    "        print (engagement)"
   ]
  },
  {
   "cell_type": "markdown",
   "id": "7d91df25",
   "metadata": {},
   "source": [
    "## Getting the accounts with the number of lessons in the first week"
   ]
  },
  {
   "cell_type": "code",
   "execution_count": 184,
   "id": "d0a4add1",
   "metadata": {},
   "outputs": [],
   "source": [
    "total_lessons = {}\n",
    "\n",
    "for account_key, engagement in engagement_by_account.items():\n",
    "    total_les = 0\n",
    "    for i in engagement:\n",
    "        total_les+=i['lessons_completed']\n",
    "    total_lessons[account_key] = total_les\n",
    "    \n",
    "\n",
    "    \n"
   ]
  },
  {
   "cell_type": "code",
   "execution_count": 113,
   "id": "4d8fcda6",
   "metadata": {},
   "outputs": [
    {
     "name": "stdout",
     "output_type": "stream",
     "text": [
      "mean 1.636180904522613\n",
      "min 0\n",
      "max 36\n",
      "std 3.002561299829423\n"
     ]
    }
   ],
   "source": [
    "#Finding the mean, minimum, maximum and std\n",
    "\n",
    "total_lessons_values = list(total_lessons.values())\n",
    "\n",
    "print(\"mean\", np.mean(total_lessons_values))\n",
    "print(\"min\", np.min(total_lessons_values))\n",
    "print(\"max\", np.max(total_lessons_values))\n",
    "print(\"std\", np.std(total_lessons_values))"
   ]
  },
  {
   "cell_type": "markdown",
   "id": "f50df099",
   "metadata": {},
   "source": [
    "## Get the number of visits in a classroom"
   ]
  },
  {
   "cell_type": "code",
   "execution_count": 114,
   "id": "c308e9af",
   "metadata": {},
   "outputs": [],
   "source": [
    "number_of_visits = {}\n",
    "for account_key, engagement in engagement_by_account.items():\n",
    "    number = 0\n",
    "    for i in engagement:\n",
    "        if(i['num_courses_visited']>0):\n",
    "            number=number+1\n",
    "        number_of_visits[account_key] = number"
   ]
  },
  {
   "cell_type": "code",
   "execution_count": 115,
   "id": "5108b3c7",
   "metadata": {},
   "outputs": [
    {
     "name": "stdout",
     "output_type": "stream",
     "text": [
      "mean 2.8673366834170855\n",
      "min 0\n",
      "max 7\n",
      "std 2.2551980029196814\n"
     ]
    }
   ],
   "source": [
    "total_number_visits = list(number_of_visits.values())\n",
    "\n",
    "print(\"mean\", np.mean(total_number_visits))\n",
    "print(\"min\", np.min(total_number_visits))\n",
    "print(\"max\", np.max(total_number_visits))\n",
    "print(\"std\", np.std(total_number_visits))"
   ]
  },
  {
   "cell_type": "markdown",
   "id": "a7722937",
   "metadata": {},
   "source": [
    "## Make functions that groups the accounts by a given key, gives the sum of a given attribute, and make statistical measures"
   ]
  },
  {
   "cell_type": "code",
   "execution_count": 117,
   "id": "b7e564bb",
   "metadata": {},
   "outputs": [],
   "source": [
    "from collections import defaultdict\n",
    "def group_by(data, key):\n",
    "    group = defaultdict(list)\n",
    "    for i in data:\n",
    "        given_key = i[key]\n",
    "        group[given_key].append(i)\n",
    "    return (group)\n",
    "        "
   ]
  },
  {
   "cell_type": "code",
   "execution_count": 139,
   "id": "88870343",
   "metadata": {},
   "outputs": [],
   "source": [
    "def sums(data, field_name):\n",
    "    field_list = {}\n",
    "    for key, account in data.items():\n",
    "        number = 0\n",
    "        for i in account:\n",
    "            number+=i[field_name]\n",
    "        field_list[key] = number\n",
    "    return (field_list)"
   ]
  },
  {
   "cell_type": "code",
   "execution_count": 140,
   "id": "8b640b8d",
   "metadata": {},
   "outputs": [],
   "source": [
    "def stat(data):\n",
    "    my_list = list(data.values())\n",
    "\n",
    "    print(\"mean\", np.mean(my_list))\n",
    "    print(\"min\", np.min(my_list))\n",
    "    print(\"max\", np.max(my_list))\n",
    "    print(\"std\", np.std(my_list))"
   ]
  },
  {
   "cell_type": "code",
   "execution_count": 141,
   "id": "425826bf",
   "metadata": {},
   "outputs": [],
   "source": [
    "total_lessons = sums(engagement_by_account, 'lessons_completed')"
   ]
  },
  {
   "cell_type": "code",
   "execution_count": 142,
   "id": "71bc5495",
   "metadata": {},
   "outputs": [
    {
     "name": "stdout",
     "output_type": "stream",
     "text": [
      "mean 1.636180904522613\n",
      "min 0\n",
      "max 36\n",
      "std 3.002561299829423\n"
     ]
    }
   ],
   "source": [
    "stat(total_lessons)"
   ]
  },
  {
   "cell_type": "markdown",
   "id": "7015632e",
   "metadata": {},
   "source": [
    "## Finding the students who passed a given project"
   ]
  },
  {
   "cell_type": "code",
   "execution_count": 156,
   "id": "1f61af41",
   "metadata": {},
   "outputs": [],
   "source": [
    "pass_project = set()\n",
    "project_keys = ['746169184', '3176718735']\n",
    "\n",
    "for i in non_test_submissions:\n",
    "    if (i['lesson_key'] in project_keys) and (i['assigned_rating'] == 'PASSED' or i['assigned_rating']=='DISTINCTION'):\n",
    "        pass_project.add(i['account_key'])"
   ]
  },
  {
   "cell_type": "code",
   "execution_count": 157,
   "id": "4a2520b7",
   "metadata": {},
   "outputs": [
    {
     "name": "stdout",
     "output_type": "stream",
     "text": [
      "651\n"
     ]
    }
   ],
   "source": [
    "print(len(pass_project))\n"
   ]
  },
  {
   "cell_type": "code",
   "execution_count": 158,
   "id": "7285e2de",
   "metadata": {},
   "outputs": [
    {
     "name": "stdout",
     "output_type": "stream",
     "text": [
      "4527\n",
      "2392\n"
     ]
    }
   ],
   "source": [
    "pass_engagement = []\n",
    "non_passing_engagement = []\n",
    "\n",
    "for i in paid_engagement_in_first_week:\n",
    "    if i['account_key'] in pass_project:\n",
    "        pass_engagement.append(i)\n",
    "    else:\n",
    "        non_passing_engagement.append(i)\n",
    "print(len(pass_engagement))\n",
    "print(len(non_passing_engagement))"
   ]
  },
  {
   "cell_type": "markdown",
   "id": "1b5468eb",
   "metadata": {},
   "source": [
    "# Visualizing the data"
   ]
  },
  {
   "cell_type": "code",
   "execution_count": 173,
   "id": "45ffccf7",
   "metadata": {},
   "outputs": [],
   "source": [
    "total_number_visits_passed = []\n",
    "total_number_visits_not_passed = []\n",
    "\n",
    "for key, num in number_of_visits.items():\n",
    "    if key in pass_project:\n",
    "        total_number_visits_passed.append(num)\n",
    "    else:\n",
    "        total_number_visits_not_passed.append(num)"
   ]
  },
  {
   "cell_type": "markdown",
   "id": "60ef7582",
   "metadata": {},
   "source": [
    "## Number of visits"
   ]
  },
  {
   "cell_type": "code",
   "execution_count": 175,
   "id": "e21c961e",
   "metadata": {},
   "outputs": [
    {
     "data": {
      "image/png": "[encoded data removed]",
      "text/plain": [
       "<Figure size 432x288 with 1 Axes>"
      ]
     },
     "metadata": {
      "needs_background": "light"
     },
     "output_type": "display_data"
    }
   ],
   "source": [
    "import matplotlib.pyplot as plt\n",
    "    \n",
    "plt.hist(total_number_visits_not_passed)\n",
    "plt.show()"
   ]
  },
  {
   "cell_type": "code",
   "execution_count": 176,
   "id": "bf5541d2",
   "metadata": {},
   "outputs": [
    {
     "data": {
      "image/png": "[encoded data removed]",
      "text/plain": [
       "<Figure size 432x288 with 1 Axes>"
      ]
     },
     "metadata": {
      "needs_background": "light"
     },
     "output_type": "display_data"
    }
   ],
   "source": [
    "\n",
    "plt.hist(total_number_visits_passed)\n",
    "plt.show()"
   ]
  },
  {
   "cell_type": "markdown",
   "id": "4244f7f4",
   "metadata": {},
   "source": [
    "## Number of lessons"
   ]
  },
  {
   "cell_type": "code",
   "execution_count": 177,
   "id": "6fb2fb54",
   "metadata": {},
   "outputs": [],
   "source": [
    "total_number_lessons_passed = []\n",
    "total_number_lessons_not_passed = []\n",
    "\n",
    "for key, num in total_lessons.items():\n",
    "    if key in pass_project:\n",
    "        total_number_lessons_passed.append(num)\n",
    "    else:\n",
    "        total_number_lessons_not_passed.append(num)"
   ]
  },
  {
   "cell_type": "code",
   "execution_count": 183,
   "id": "d7f108ce",
   "metadata": {},
   "outputs": [
    {
     "data": {
      "image/png": "[encoded data removed]",
      "text/plain": [
       "<Figure size 432x288 with 1 Axes>"
      ]
     },
     "metadata": {
      "needs_background": "light"
     },
     "output_type": "display_data"
    }
   ],
   "source": [
    "plt.hist(total_number_lessons_passed)\n",
    "plt.xlabel(\"number of lessons\")\n",
    "plt.ylabel(\"number of students who passed\")\n",
    "plt.title(\"number of lessons taken by passing students\")\n",
    "plt.show()"
   ]
  },
  {
   "cell_type": "code",
   "execution_count": 179,
   "id": "cdc3e510",
   "metadata": {},
   "outputs": [
    {
     "data": {
      "image/png": "[encoded data removed]",
      "text/plain": [
       "<Figure size 432x288 with 1 Axes>"
      ]
     },
     "metadata": {
      "needs_background": "light"
     },
     "output_type": "display_data"
    }
   ],
   "source": [
    "plt.hist(total_number_lessons_not_passed)\n",
    "plt.show()"
   ]
  },
  {
   "cell_type": "markdown",
   "id": "d26eadaa",
   "metadata": {},
   "source": [
    "## Number of minutes"
   ]
  },
  {
   "cell_type": "code",
   "execution_count": 180,
   "id": "cc5aa596",
   "metadata": {},
   "outputs": [],
   "source": [
    "total_number_minutes_passed = []\n",
    "total_number_minutes_not_passed = []\n",
    "\n",
    "for key, num in total_minutes_by_account.items():\n",
    "    if key in pass_project:\n",
    "        total_number_minutes_passed.append(num)\n",
    "    else:\n",
    "        total_number_minutes_not_passed.append(num)"
   ]
  },
  {
   "cell_type": "code",
   "execution_count": 181,
   "id": "9c2518d1",
   "metadata": {},
   "outputs": [
    {
     "data": {
      "image/png": "[encoded data removed]",
      "text/plain": [
       "<Figure size 432x288 with 1 Axes>"
      ]
     },
     "metadata": {
      "needs_background": "light"
     },
     "output_type": "display_data"
    }
   ],
   "source": [
    "plt.hist(total_number_minutes_passed)\n",
    "plt.show()"
   ]
  },
  {
   "cell_type": "code",
   "execution_count": 182,
   "id": "0d652cf2",
   "metadata": {},
   "outputs": [
    {
     "data": {
      "image/png": "[encoded data removed]",
      "text/plain": [
       "<Figure size 432x288 with 1 Axes>"
      ]
     },
     "metadata": {
      "needs_background": "light"
     },
     "output_type": "display_data"
    }
   ],
   "source": [
    "plt.hist(total_number_minutes_not_passed)\n",
    "plt.show()"
   ]
  },
  {
   "cell_type": "code",
   "execution_count": null,
   "id": "ba8e6ea4",
   "metadata": {},
   "outputs": [],
   "source": []
  }
 ],
 "metadata": {
  "kernelspec": {
   "display_name": "Python 3",
   "language": "python",
   "name": "python3"
  },
  "language_info": {
   "codemirror_mode": {
    "name": "ipython",
    "version": 3
   },
   "file_extension": ".py",
   "mimetype": "text/x-python",
   "name": "python",
   "nbconvert_exporter": "python",
   "pygments_lexer": "ipython3",
   "version": "3.8.8"
  }
 },
 "nbformat": 4,
 "nbformat_minor": 5
}
